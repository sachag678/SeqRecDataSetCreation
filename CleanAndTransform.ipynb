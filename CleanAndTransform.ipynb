{
 "cells": [
  {
   "cell_type": "code",
   "execution_count": 1,
   "id": "a570a0ad-76b7-4700-bffd-6dd9e4729643",
   "metadata": {},
   "outputs": [],
   "source": [
    "import pandas as pd\n",
    "import numpy as np\n",
    "import csv\n",
    "from collections import defaultdict\n",
    "from sklearn import preprocessing"
   ]
  },
  {
   "cell_type": "code",
   "execution_count": 2,
   "id": "e6d0e9bd-5cc6-4979-820d-d28be056a995",
   "metadata": {},
   "outputs": [],
   "source": [
    "df = pd.read_csv('data/historical_transactions.csv')"
   ]
  },
  {
   "cell_type": "code",
   "execution_count": 3,
   "id": "eaadf75b-e274-4fdc-a0ec-1ff297017600",
   "metadata": {},
   "outputs": [
    {
     "data": {
      "text/html": [
       "<div>\n",
       "<style scoped>\n",
       "    .dataframe tbody tr th:only-of-type {\n",
       "        vertical-align: middle;\n",
       "    }\n",
       "\n",
       "    .dataframe tbody tr th {\n",
       "        vertical-align: top;\n",
       "    }\n",
       "\n",
       "    .dataframe thead th {\n",
       "        text-align: right;\n",
       "    }\n",
       "</style>\n",
       "<table border=\"1\" class=\"dataframe\">\n",
       "  <thead>\n",
       "    <tr style=\"text-align: right;\">\n",
       "      <th></th>\n",
       "      <th>authorized_flag</th>\n",
       "      <th>card_id</th>\n",
       "      <th>city_id</th>\n",
       "      <th>category_1</th>\n",
       "      <th>installments</th>\n",
       "      <th>category_3</th>\n",
       "      <th>merchant_category_id</th>\n",
       "      <th>merchant_id</th>\n",
       "      <th>month_lag</th>\n",
       "      <th>purchase_amount</th>\n",
       "      <th>purchase_date</th>\n",
       "      <th>category_2</th>\n",
       "      <th>state_id</th>\n",
       "      <th>subsector_id</th>\n",
       "    </tr>\n",
       "  </thead>\n",
       "  <tbody>\n",
       "    <tr>\n",
       "      <th>0</th>\n",
       "      <td>Y</td>\n",
       "      <td>C_ID_4e6213e9bc</td>\n",
       "      <td>88</td>\n",
       "      <td>N</td>\n",
       "      <td>0</td>\n",
       "      <td>A</td>\n",
       "      <td>80</td>\n",
       "      <td>M_ID_e020e9b302</td>\n",
       "      <td>-8</td>\n",
       "      <td>-0.703331</td>\n",
       "      <td>2017-06-25 15:33:07</td>\n",
       "      <td>1.0</td>\n",
       "      <td>16</td>\n",
       "      <td>37</td>\n",
       "    </tr>\n",
       "    <tr>\n",
       "      <th>1</th>\n",
       "      <td>Y</td>\n",
       "      <td>C_ID_4e6213e9bc</td>\n",
       "      <td>88</td>\n",
       "      <td>N</td>\n",
       "      <td>0</td>\n",
       "      <td>A</td>\n",
       "      <td>367</td>\n",
       "      <td>M_ID_86ec983688</td>\n",
       "      <td>-7</td>\n",
       "      <td>-0.733128</td>\n",
       "      <td>2017-07-15 12:10:45</td>\n",
       "      <td>1.0</td>\n",
       "      <td>16</td>\n",
       "      <td>16</td>\n",
       "    </tr>\n",
       "    <tr>\n",
       "      <th>2</th>\n",
       "      <td>Y</td>\n",
       "      <td>C_ID_4e6213e9bc</td>\n",
       "      <td>88</td>\n",
       "      <td>N</td>\n",
       "      <td>0</td>\n",
       "      <td>A</td>\n",
       "      <td>80</td>\n",
       "      <td>M_ID_979ed661fc</td>\n",
       "      <td>-6</td>\n",
       "      <td>-0.720386</td>\n",
       "      <td>2017-08-09 22:04:29</td>\n",
       "      <td>1.0</td>\n",
       "      <td>16</td>\n",
       "      <td>37</td>\n",
       "    </tr>\n",
       "    <tr>\n",
       "      <th>3</th>\n",
       "      <td>Y</td>\n",
       "      <td>C_ID_4e6213e9bc</td>\n",
       "      <td>88</td>\n",
       "      <td>N</td>\n",
       "      <td>0</td>\n",
       "      <td>A</td>\n",
       "      <td>560</td>\n",
       "      <td>M_ID_e6d5ae8ea6</td>\n",
       "      <td>-5</td>\n",
       "      <td>-0.735352</td>\n",
       "      <td>2017-09-02 10:06:26</td>\n",
       "      <td>1.0</td>\n",
       "      <td>16</td>\n",
       "      <td>34</td>\n",
       "    </tr>\n",
       "    <tr>\n",
       "      <th>4</th>\n",
       "      <td>Y</td>\n",
       "      <td>C_ID_4e6213e9bc</td>\n",
       "      <td>88</td>\n",
       "      <td>N</td>\n",
       "      <td>0</td>\n",
       "      <td>A</td>\n",
       "      <td>80</td>\n",
       "      <td>M_ID_e020e9b302</td>\n",
       "      <td>-11</td>\n",
       "      <td>-0.722865</td>\n",
       "      <td>2017-03-10 01:14:19</td>\n",
       "      <td>1.0</td>\n",
       "      <td>16</td>\n",
       "      <td>37</td>\n",
       "    </tr>\n",
       "  </tbody>\n",
       "</table>\n",
       "</div>"
      ],
      "text/plain": [
       "  authorized_flag          card_id  city_id category_1  installments  \\\n",
       "0               Y  C_ID_4e6213e9bc       88          N             0   \n",
       "1               Y  C_ID_4e6213e9bc       88          N             0   \n",
       "2               Y  C_ID_4e6213e9bc       88          N             0   \n",
       "3               Y  C_ID_4e6213e9bc       88          N             0   \n",
       "4               Y  C_ID_4e6213e9bc       88          N             0   \n",
       "\n",
       "  category_3  merchant_category_id      merchant_id  month_lag  \\\n",
       "0          A                    80  M_ID_e020e9b302         -8   \n",
       "1          A                   367  M_ID_86ec983688         -7   \n",
       "2          A                    80  M_ID_979ed661fc         -6   \n",
       "3          A                   560  M_ID_e6d5ae8ea6         -5   \n",
       "4          A                    80  M_ID_e020e9b302        -11   \n",
       "\n",
       "   purchase_amount        purchase_date  category_2  state_id  subsector_id  \n",
       "0        -0.703331  2017-06-25 15:33:07         1.0        16            37  \n",
       "1        -0.733128  2017-07-15 12:10:45         1.0        16            16  \n",
       "2        -0.720386  2017-08-09 22:04:29         1.0        16            37  \n",
       "3        -0.735352  2017-09-02 10:06:26         1.0        16            34  \n",
       "4        -0.722865  2017-03-10 01:14:19         1.0        16            37  "
      ]
     },
     "execution_count": 3,
     "metadata": {},
     "output_type": "execute_result"
    }
   ],
   "source": [
    "df.head()"
   ]
  },
  {
   "cell_type": "code",
   "execution_count": 28,
   "id": "8692c809-1957-4239-bdd6-1ae73e4e0883",
   "metadata": {},
   "outputs": [],
   "source": [
    "clean = df[['card_id', 'merchant_id', 'purchase_date']].sort_values(by = 'purchase_date', ascending=True)"
   ]
  },
  {
   "cell_type": "code",
   "execution_count": 29,
   "id": "fd7eb7af-727b-40ce-ad67-537bce3582cc",
   "metadata": {},
   "outputs": [
    {
     "data": {
      "text/html": [
       "<div>\n",
       "<style scoped>\n",
       "    .dataframe tbody tr th:only-of-type {\n",
       "        vertical-align: middle;\n",
       "    }\n",
       "\n",
       "    .dataframe tbody tr th {\n",
       "        vertical-align: top;\n",
       "    }\n",
       "\n",
       "    .dataframe thead th {\n",
       "        text-align: right;\n",
       "    }\n",
       "</style>\n",
       "<table border=\"1\" class=\"dataframe\">\n",
       "  <thead>\n",
       "    <tr style=\"text-align: right;\">\n",
       "      <th></th>\n",
       "      <th>card_id</th>\n",
       "      <th>merchant_id</th>\n",
       "      <th>purchase_date</th>\n",
       "    </tr>\n",
       "  </thead>\n",
       "  <tbody>\n",
       "    <tr>\n",
       "      <th>7289521</th>\n",
       "      <td>C_ID_da2090f28e</td>\n",
       "      <td>M_ID_f001319a61</td>\n",
       "      <td>2017-01-01 00:00:08</td>\n",
       "    </tr>\n",
       "    <tr>\n",
       "      <th>18512762</th>\n",
       "      <td>C_ID_efced389a0</td>\n",
       "      <td>M_ID_18038b5ae7</td>\n",
       "      <td>2017-01-01 00:00:59</td>\n",
       "    </tr>\n",
       "    <tr>\n",
       "      <th>14942234</th>\n",
       "      <td>C_ID_83561fe74a</td>\n",
       "      <td>M_ID_52d3026407</td>\n",
       "      <td>2017-01-01 00:01:41</td>\n",
       "    </tr>\n",
       "    <tr>\n",
       "      <th>28659693</th>\n",
       "      <td>C_ID_479fd6392a</td>\n",
       "      <td>M_ID_e5374dabc0</td>\n",
       "      <td>2017-01-01 00:02:03</td>\n",
       "    </tr>\n",
       "    <tr>\n",
       "      <th>20004812</th>\n",
       "      <td>C_ID_1cf6056088</td>\n",
       "      <td>M_ID_2cf6dc1f6f</td>\n",
       "      <td>2017-01-01 00:02:12</td>\n",
       "    </tr>\n",
       "  </tbody>\n",
       "</table>\n",
       "</div>"
      ],
      "text/plain": [
       "                  card_id      merchant_id        purchase_date\n",
       "7289521   C_ID_da2090f28e  M_ID_f001319a61  2017-01-01 00:00:08\n",
       "18512762  C_ID_efced389a0  M_ID_18038b5ae7  2017-01-01 00:00:59\n",
       "14942234  C_ID_83561fe74a  M_ID_52d3026407  2017-01-01 00:01:41\n",
       "28659693  C_ID_479fd6392a  M_ID_e5374dabc0  2017-01-01 00:02:03\n",
       "20004812  C_ID_1cf6056088  M_ID_2cf6dc1f6f  2017-01-01 00:02:12"
      ]
     },
     "execution_count": 29,
     "metadata": {},
     "output_type": "execute_result"
    }
   ],
   "source": [
    "clean.head()"
   ]
  },
  {
   "cell_type": "code",
   "execution_count": 30,
   "id": "5325dde2-4ed4-4f3b-ac3a-ea7971bb4ef7",
   "metadata": {},
   "outputs": [
    {
     "data": {
      "text/plain": [
       "card_id\n",
       "C_ID_3d3dfdc692    5582\n",
       "C_ID_0cd2ce025c    2912\n",
       "C_ID_cc3d4cd4e3    2143\n",
       "C_ID_5ccc07beb9    2066\n",
       "C_ID_5ea401d358    1786\n",
       "                   ... \n",
       "C_ID_22df161ffe       2\n",
       "C_ID_edc21e1571       2\n",
       "C_ID_1e3c6b4f44       2\n",
       "C_ID_112832329d       2\n",
       "C_ID_cb5d101ac5       2\n",
       "Name: purchase_date, Length: 325540, dtype: int64"
      ]
     },
     "execution_count": 30,
     "metadata": {},
     "output_type": "execute_result"
    }
   ],
   "source": [
    "clean.groupby(['card_id'])['purchase_date'].count().sort_values(ascending=False)"
   ]
  },
  {
   "cell_type": "code",
   "execution_count": 31,
   "id": "0412c112-17e8-450f-87c7-bb10886c72a2",
   "metadata": {},
   "outputs": [
    {
     "data": {
      "text/plain": [
       "count    325540.000000\n",
       "mean         89.427907\n",
       "std         105.279414\n",
       "min           2.000000\n",
       "25%          26.000000\n",
       "50%          55.000000\n",
       "75%         111.000000\n",
       "max        5582.000000\n",
       "Name: purchase_date, dtype: float64"
      ]
     },
     "execution_count": 31,
     "metadata": {},
     "output_type": "execute_result"
    }
   ],
   "source": [
    "clean.groupby(['card_id'])['purchase_date'].count().describe()"
   ]
  },
  {
   "cell_type": "markdown",
   "id": "53586743-19ef-4ddb-8af5-abc97eb0bc3d",
   "metadata": {},
   "source": [
    "## Notes\n",
    "It can be seen that mean number of purchases per card is 89 with a standard deviation of 105. The minimum is 2 and maximum is 5582. Given that the CoSeRec has a maximum sequence length cutoff of 50 we may have to cut down on the sequence size for each user.\n",
    "\n",
    "Next steps will be to order the sequences for each card by date and build the dataset with card_id as the first column which will just be row_id and then the sequence of merchant_id pairs per that card id. "
   ]
  },
  {
   "cell_type": "code",
   "execution_count": 32,
   "id": "0528487a-25c4-45be-bfe8-b01fdb23bb18",
   "metadata": {},
   "outputs": [],
   "source": [
    "label_encoder = preprocessing.LabelEncoder()  # convert the merchant and card ids to integers\n",
    "clean['merchant_id']= label_encoder.fit_transform(clean['merchant_id'])\n",
    "clean['card_id']= label_encoder.fit_transform(clean['card_id'])"
   ]
  },
  {
   "cell_type": "code",
   "execution_count": 33,
   "id": "29fb39f9-3b69-4399-b349-09493582ac78",
   "metadata": {},
   "outputs": [
    {
     "data": {
      "text/html": [
       "<div>\n",
       "<style scoped>\n",
       "    .dataframe tbody tr th:only-of-type {\n",
       "        vertical-align: middle;\n",
       "    }\n",
       "\n",
       "    .dataframe tbody tr th {\n",
       "        vertical-align: top;\n",
       "    }\n",
       "\n",
       "    .dataframe thead th {\n",
       "        text-align: right;\n",
       "    }\n",
       "</style>\n",
       "<table border=\"1\" class=\"dataframe\">\n",
       "  <thead>\n",
       "    <tr style=\"text-align: right;\">\n",
       "      <th></th>\n",
       "      <th>card_id</th>\n",
       "      <th>merchant_id</th>\n",
       "      <th>purchase_date</th>\n",
       "    </tr>\n",
       "  </thead>\n",
       "  <tbody>\n",
       "    <tr>\n",
       "      <th>7289521</th>\n",
       "      <td>277240</td>\n",
       "      <td>305960</td>\n",
       "      <td>2017-01-01 00:00:08</td>\n",
       "    </tr>\n",
       "    <tr>\n",
       "      <th>18512762</th>\n",
       "      <td>304855</td>\n",
       "      <td>30671</td>\n",
       "      <td>2017-01-01 00:00:59</td>\n",
       "    </tr>\n",
       "    <tr>\n",
       "      <th>14942234</th>\n",
       "      <td>167005</td>\n",
       "      <td>105431</td>\n",
       "      <td>2017-01-01 00:01:41</td>\n",
       "    </tr>\n",
       "    <tr>\n",
       "      <th>28659693</th>\n",
       "      <td>91256</td>\n",
       "      <td>292163</td>\n",
       "      <td>2017-01-01 00:02:03</td>\n",
       "    </tr>\n",
       "    <tr>\n",
       "      <th>20004812</th>\n",
       "      <td>36808</td>\n",
       "      <td>57235</td>\n",
       "      <td>2017-01-01 00:02:12</td>\n",
       "    </tr>\n",
       "  </tbody>\n",
       "</table>\n",
       "</div>"
      ],
      "text/plain": [
       "          card_id  merchant_id        purchase_date\n",
       "7289521    277240       305960  2017-01-01 00:00:08\n",
       "18512762   304855        30671  2017-01-01 00:00:59\n",
       "14942234   167005       105431  2017-01-01 00:01:41\n",
       "28659693    91256       292163  2017-01-01 00:02:03\n",
       "20004812    36808        57235  2017-01-01 00:02:12"
      ]
     },
     "execution_count": 33,
     "metadata": {},
     "output_type": "execute_result"
    }
   ],
   "source": [
    "clean.head()"
   ]
  },
  {
   "cell_type": "code",
   "execution_count": 39,
   "id": "ddad8016-1843-4d2a-836b-ba151359c1b6",
   "metadata": {},
   "outputs": [],
   "source": [
    "groups = clean.groupby(['card_id']).merchant_id.apply(list)"
   ]
  },
  {
   "cell_type": "code",
   "execution_count": 40,
   "id": "9a5691cb-104c-47fc-85b3-eaf4d62d6289",
   "metadata": {},
   "outputs": [
    {
     "data": {
      "text/plain": [
       "card_id\n",
       "0         [133994, 207972, 188773, 207972, 188773, 18877...\n",
       "1         [266979, 266979, 266979, 222529, 151415, 23137...\n",
       "2         [116232, 188224, 213956, 87420, 204645, 189334...\n",
       "3         [156200, 307907, 284001, 306432, 211913, 52241...\n",
       "4         [153460, 153460, 147101, 310040, 310040, 31004...\n",
       "                                ...                        \n",
       "325535    [100952, 258509, 258509, 258509, 835, 148296, ...\n",
       "325536    [306830, 192027, 153456, 302096, 106343, 86454...\n",
       "325537    [80210, 3049, 3049, 3049, 3049, 3049, 164264, ...\n",
       "325538    [290998, 81700, 232707, 185965, 26664, 39748, ...\n",
       "325539    [152456, 71504, 109177, 86378, 152456, 87025, ...\n",
       "Name: merchant_id, Length: 325540, dtype: object"
      ]
     },
     "execution_count": 40,
     "metadata": {},
     "output_type": "execute_result"
    }
   ],
   "source": [
    "groups # it is in order because we ordered clean by date previously"
   ]
  },
  {
   "cell_type": "code",
   "execution_count": 41,
   "id": "1898e26d-5142-46f3-8165-025994d8857f",
   "metadata": {},
   "outputs": [],
   "source": [
    "file = open('data/card_purchases.txt', 'w')\n",
    "writer = csv.writer(file)\n",
    "max_seq_len = 50\n",
    "for k in range(len(groups)):\n",
    "    d = groups[k][:max_seq_len] # cut the sequence length\n",
    "    d.insert(0, k) # this is not ideal because it's not immutable and it messes with groups\n",
    "    writer.writerow(d)\n",
    "file.close()"
   ]
  }
 ],
 "metadata": {
  "kernelspec": {
   "display_name": "Python 3 (ipykernel)",
   "language": "python",
   "name": "python3"
  },
  "language_info": {
   "codemirror_mode": {
    "name": "ipython",
    "version": 3
   },
   "file_extension": ".py",
   "mimetype": "text/x-python",
   "name": "python",
   "nbconvert_exporter": "python",
   "pygments_lexer": "ipython3",
   "version": "3.9.7"
  }
 },
 "nbformat": 4,
 "nbformat_minor": 5
}

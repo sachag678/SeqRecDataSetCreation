{
 "cells": [
  {
   "cell_type": "code",
   "execution_count": 1,
   "id": "a570a0ad-76b7-4700-bffd-6dd9e4729643",
   "metadata": {},
   "outputs": [],
   "source": [
    "import pandas as pd\n",
    "import numpy as np\n",
    "import csv\n",
    "from collections import defaultdict\n",
    "from sklearn import preprocessing\n",
    "import matplotlib.pyplot as plt"
   ]
  },
  {
   "cell_type": "code",
   "execution_count": 2,
   "id": "e6d0e9bd-5cc6-4979-820d-d28be056a995",
   "metadata": {},
   "outputs": [],
   "source": [
    "df = pd.read_csv('data/historical_transactions.csv')"
   ]
  },
  {
   "cell_type": "code",
   "execution_count": 3,
   "id": "eaadf75b-e274-4fdc-a0ec-1ff297017600",
   "metadata": {},
   "outputs": [
    {
     "data": {
      "text/html": [
       "<div>\n",
       "<style scoped>\n",
       "    .dataframe tbody tr th:only-of-type {\n",
       "        vertical-align: middle;\n",
       "    }\n",
       "\n",
       "    .dataframe tbody tr th {\n",
       "        vertical-align: top;\n",
       "    }\n",
       "\n",
       "    .dataframe thead th {\n",
       "        text-align: right;\n",
       "    }\n",
       "</style>\n",
       "<table border=\"1\" class=\"dataframe\">\n",
       "  <thead>\n",
       "    <tr style=\"text-align: right;\">\n",
       "      <th></th>\n",
       "      <th>authorized_flag</th>\n",
       "      <th>card_id</th>\n",
       "      <th>city_id</th>\n",
       "      <th>category_1</th>\n",
       "      <th>installments</th>\n",
       "      <th>category_3</th>\n",
       "      <th>merchant_category_id</th>\n",
       "      <th>merchant_id</th>\n",
       "      <th>month_lag</th>\n",
       "      <th>purchase_amount</th>\n",
       "      <th>purchase_date</th>\n",
       "      <th>category_2</th>\n",
       "      <th>state_id</th>\n",
       "      <th>subsector_id</th>\n",
       "    </tr>\n",
       "  </thead>\n",
       "  <tbody>\n",
       "    <tr>\n",
       "      <th>0</th>\n",
       "      <td>Y</td>\n",
       "      <td>C_ID_4e6213e9bc</td>\n",
       "      <td>88</td>\n",
       "      <td>N</td>\n",
       "      <td>0</td>\n",
       "      <td>A</td>\n",
       "      <td>80</td>\n",
       "      <td>M_ID_e020e9b302</td>\n",
       "      <td>-8</td>\n",
       "      <td>-0.703331</td>\n",
       "      <td>2017-06-25 15:33:07</td>\n",
       "      <td>1.0</td>\n",
       "      <td>16</td>\n",
       "      <td>37</td>\n",
       "    </tr>\n",
       "    <tr>\n",
       "      <th>1</th>\n",
       "      <td>Y</td>\n",
       "      <td>C_ID_4e6213e9bc</td>\n",
       "      <td>88</td>\n",
       "      <td>N</td>\n",
       "      <td>0</td>\n",
       "      <td>A</td>\n",
       "      <td>367</td>\n",
       "      <td>M_ID_86ec983688</td>\n",
       "      <td>-7</td>\n",
       "      <td>-0.733128</td>\n",
       "      <td>2017-07-15 12:10:45</td>\n",
       "      <td>1.0</td>\n",
       "      <td>16</td>\n",
       "      <td>16</td>\n",
       "    </tr>\n",
       "    <tr>\n",
       "      <th>2</th>\n",
       "      <td>Y</td>\n",
       "      <td>C_ID_4e6213e9bc</td>\n",
       "      <td>88</td>\n",
       "      <td>N</td>\n",
       "      <td>0</td>\n",
       "      <td>A</td>\n",
       "      <td>80</td>\n",
       "      <td>M_ID_979ed661fc</td>\n",
       "      <td>-6</td>\n",
       "      <td>-0.720386</td>\n",
       "      <td>2017-08-09 22:04:29</td>\n",
       "      <td>1.0</td>\n",
       "      <td>16</td>\n",
       "      <td>37</td>\n",
       "    </tr>\n",
       "    <tr>\n",
       "      <th>3</th>\n",
       "      <td>Y</td>\n",
       "      <td>C_ID_4e6213e9bc</td>\n",
       "      <td>88</td>\n",
       "      <td>N</td>\n",
       "      <td>0</td>\n",
       "      <td>A</td>\n",
       "      <td>560</td>\n",
       "      <td>M_ID_e6d5ae8ea6</td>\n",
       "      <td>-5</td>\n",
       "      <td>-0.735352</td>\n",
       "      <td>2017-09-02 10:06:26</td>\n",
       "      <td>1.0</td>\n",
       "      <td>16</td>\n",
       "      <td>34</td>\n",
       "    </tr>\n",
       "    <tr>\n",
       "      <th>4</th>\n",
       "      <td>Y</td>\n",
       "      <td>C_ID_4e6213e9bc</td>\n",
       "      <td>88</td>\n",
       "      <td>N</td>\n",
       "      <td>0</td>\n",
       "      <td>A</td>\n",
       "      <td>80</td>\n",
       "      <td>M_ID_e020e9b302</td>\n",
       "      <td>-11</td>\n",
       "      <td>-0.722865</td>\n",
       "      <td>2017-03-10 01:14:19</td>\n",
       "      <td>1.0</td>\n",
       "      <td>16</td>\n",
       "      <td>37</td>\n",
       "    </tr>\n",
       "  </tbody>\n",
       "</table>\n",
       "</div>"
      ],
      "text/plain": [
       "  authorized_flag          card_id  city_id category_1  installments  \\\n",
       "0               Y  C_ID_4e6213e9bc       88          N             0   \n",
       "1               Y  C_ID_4e6213e9bc       88          N             0   \n",
       "2               Y  C_ID_4e6213e9bc       88          N             0   \n",
       "3               Y  C_ID_4e6213e9bc       88          N             0   \n",
       "4               Y  C_ID_4e6213e9bc       88          N             0   \n",
       "\n",
       "  category_3  merchant_category_id      merchant_id  month_lag  \\\n",
       "0          A                    80  M_ID_e020e9b302         -8   \n",
       "1          A                   367  M_ID_86ec983688         -7   \n",
       "2          A                    80  M_ID_979ed661fc         -6   \n",
       "3          A                   560  M_ID_e6d5ae8ea6         -5   \n",
       "4          A                    80  M_ID_e020e9b302        -11   \n",
       "\n",
       "   purchase_amount        purchase_date  category_2  state_id  subsector_id  \n",
       "0        -0.703331  2017-06-25 15:33:07         1.0        16            37  \n",
       "1        -0.733128  2017-07-15 12:10:45         1.0        16            16  \n",
       "2        -0.720386  2017-08-09 22:04:29         1.0        16            37  \n",
       "3        -0.735352  2017-09-02 10:06:26         1.0        16            34  \n",
       "4        -0.722865  2017-03-10 01:14:19         1.0        16            37  "
      ]
     },
     "execution_count": 3,
     "metadata": {},
     "output_type": "execute_result"
    }
   ],
   "source": [
    "df.head()"
   ]
  },
  {
   "cell_type": "code",
   "execution_count": 40,
   "id": "8692c809-1957-4239-bdd6-1ae73e4e0883",
   "metadata": {},
   "outputs": [],
   "source": [
    "clean = df[['card_id', 'merchant_id', 'purchase_date']].sort_values(by = 'purchase_date', ascending=True)"
   ]
  },
  {
   "cell_type": "code",
   "execution_count": 41,
   "id": "fd7eb7af-727b-40ce-ad67-537bce3582cc",
   "metadata": {},
   "outputs": [],
   "source": [
    "clean['purchase_date'] = pd.to_datetime(clean['purchase_date'])"
   ]
  },
  {
   "cell_type": "code",
   "execution_count": 42,
   "id": "6ff29a77-5784-47c6-bfba-f9257f285a60",
   "metadata": {},
   "outputs": [
    {
     "data": {
      "text/plain": [
       "Timestamp('2018-02-28 23:59:51')"
      ]
     },
     "execution_count": 42,
     "metadata": {},
     "output_type": "execute_result"
    }
   ],
   "source": [
    "clean['purchase_date'].max()"
   ]
  },
  {
   "cell_type": "code",
   "execution_count": 43,
   "id": "647ee570-38c6-44e7-97d9-93fad3fceb31",
   "metadata": {},
   "outputs": [],
   "source": [
    "clean = clean[clean.purchase_date < clean['purchase_date'].min() + pd.to_timedelta('10day')] # just look at a 10 day window"
   ]
  },
  {
   "cell_type": "code",
   "execution_count": 54,
   "id": "1b587ed4-c8bb-4c32-8990-3995c06f656a",
   "metadata": {},
   "outputs": [],
   "source": [
    "clean = clean.groupby(['card_id']).filter(lambda x: x['merchant_id'].count() > 5) # make sure the sequence len > 5"
   ]
  },
  {
   "cell_type": "code",
   "execution_count": 55,
   "id": "5325dde2-4ed4-4f3b-ac3a-ea7971bb4ef7",
   "metadata": {},
   "outputs": [
    {
     "data": {
      "text/plain": [
       "card_id\n",
       "C_ID_8d24dbcfdf    76\n",
       "C_ID_6cffeb146a    63\n",
       "C_ID_94cf87a008    61\n",
       "C_ID_bf52d3770a    60\n",
       "C_ID_f099a38468    58\n",
       "                   ..\n",
       "C_ID_9859b31349     6\n",
       "C_ID_98427d2aec     6\n",
       "C_ID_9841775757     6\n",
       "C_ID_98345c3904     6\n",
       "C_ID_87eb22726e     6\n",
       "Name: purchase_date, Length: 20700, dtype: int64"
      ]
     },
     "execution_count": 55,
     "metadata": {},
     "output_type": "execute_result"
    }
   ],
   "source": [
    "clean.groupby(['card_id'])['purchase_date'].count().sort_values(ascending=False)"
   ]
  },
  {
   "cell_type": "code",
   "execution_count": 56,
   "id": "0412c112-17e8-450f-87c7-bb10886c72a2",
   "metadata": {},
   "outputs": [
    {
     "data": {
      "text/plain": [
       "count    20700.000000\n",
       "mean        10.687826\n",
       "std          5.463045\n",
       "min          6.000000\n",
       "25%          7.000000\n",
       "50%          9.000000\n",
       "75%         13.000000\n",
       "max         76.000000\n",
       "Name: purchase_date, dtype: float64"
      ]
     },
     "execution_count": 56,
     "metadata": {},
     "output_type": "execute_result"
    }
   ],
   "source": [
    "stats = clean.groupby(['card_id'])['purchase_date'].count().describe()\n",
    "stats"
   ]
  },
  {
   "cell_type": "code",
   "execution_count": 57,
   "id": "23f3a251-b77a-44d5-a1e9-85c3fe425072",
   "metadata": {},
   "outputs": [
    {
     "name": "stdout",
     "output_type": "stream",
     "text": [
      "Total Actions: 221238\n",
      "Total Users: 20700\n",
      "Total Items: 60293\n",
      "Avg length: 10.687826086956521\n",
      "Max length: 76.0\n"
     ]
    }
   ],
   "source": [
    "print(\"Total Actions: {}\".format(len(clean)))\n",
    "print(\"Total Users: {}\".format(len(clean['card_id'].unique())))\n",
    "print(\"Total Items: {}\".format(len(clean['merchant_id'].unique())))\n",
    "print(\"Avg length: {}\".format(stats['mean']))\n",
    "print(\"Max length: {}\".format(stats['max']))"
   ]
  },
  {
   "cell_type": "markdown",
   "id": "53586743-19ef-4ddb-8af5-abc97eb0bc3d",
   "metadata": {},
   "source": [
    "## Notes\n",
    "It can be seen that mean number of purchases per card is 89 with a standard deviation of 105. The minimum is 2 and maximum is 5582. Given that the CoSeRec has a maximum sequence length cutoff of 50 we may have to cut down on the sequence size for each user.\n",
    "\n",
    "Next steps will be to order the sequences for each card by date and build the dataset with card_id as the first column which will just be row_id and then the sequence of merchant_id pairs per that card id. "
   ]
  },
  {
   "cell_type": "code",
   "execution_count": 58,
   "id": "0528487a-25c4-45be-bfe8-b01fdb23bb18",
   "metadata": {},
   "outputs": [],
   "source": [
    "label_encoder = preprocessing.LabelEncoder()  # convert the merchant and card ids to integers\n",
    "clean['merchant_id']= label_encoder.fit_transform(clean['merchant_id'])\n",
    "clean['card_id']= label_encoder.fit_transform(clean['card_id'])"
   ]
  },
  {
   "cell_type": "code",
   "execution_count": 59,
   "id": "29fb39f9-3b69-4399-b349-09493582ac78",
   "metadata": {},
   "outputs": [
    {
     "data": {
      "text/html": [
       "<div>\n",
       "<style scoped>\n",
       "    .dataframe tbody tr th:only-of-type {\n",
       "        vertical-align: middle;\n",
       "    }\n",
       "\n",
       "    .dataframe tbody tr th {\n",
       "        vertical-align: top;\n",
       "    }\n",
       "\n",
       "    .dataframe thead th {\n",
       "        text-align: right;\n",
       "    }\n",
       "</style>\n",
       "<table border=\"1\" class=\"dataframe\">\n",
       "  <thead>\n",
       "    <tr style=\"text-align: right;\">\n",
       "      <th></th>\n",
       "      <th>card_id</th>\n",
       "      <th>merchant_id</th>\n",
       "      <th>purchase_date</th>\n",
       "    </tr>\n",
       "  </thead>\n",
       "  <tbody>\n",
       "    <tr>\n",
       "      <th>18512762</th>\n",
       "      <td>19345</td>\n",
       "      <td>5746</td>\n",
       "      <td>2017-01-01 00:00:59</td>\n",
       "    </tr>\n",
       "    <tr>\n",
       "      <th>14942234</th>\n",
       "      <td>10449</td>\n",
       "      <td>19780</td>\n",
       "      <td>2017-01-01 00:01:41</td>\n",
       "    </tr>\n",
       "    <tr>\n",
       "      <th>20004812</th>\n",
       "      <td>2287</td>\n",
       "      <td>10622</td>\n",
       "      <td>2017-01-01 00:02:12</td>\n",
       "    </tr>\n",
       "    <tr>\n",
       "      <th>12436720</th>\n",
       "      <td>19735</td>\n",
       "      <td>154</td>\n",
       "      <td>2017-01-01 00:02:25</td>\n",
       "    </tr>\n",
       "    <tr>\n",
       "      <th>3719958</th>\n",
       "      <td>19130</td>\n",
       "      <td>25663</td>\n",
       "      <td>2017-01-01 00:02:25</td>\n",
       "    </tr>\n",
       "  </tbody>\n",
       "</table>\n",
       "</div>"
      ],
      "text/plain": [
       "          card_id  merchant_id       purchase_date\n",
       "18512762    19345         5746 2017-01-01 00:00:59\n",
       "14942234    10449        19780 2017-01-01 00:01:41\n",
       "20004812     2287        10622 2017-01-01 00:02:12\n",
       "12436720    19735          154 2017-01-01 00:02:25\n",
       "3719958     19130        25663 2017-01-01 00:02:25"
      ]
     },
     "execution_count": 59,
     "metadata": {},
     "output_type": "execute_result"
    }
   ],
   "source": [
    "clean.head()"
   ]
  },
  {
   "cell_type": "code",
   "execution_count": 60,
   "id": "ddad8016-1843-4d2a-836b-ba151359c1b6",
   "metadata": {},
   "outputs": [],
   "source": [
    "groups = clean.groupby(['card_id']).merchant_id.apply(list)"
   ]
  },
  {
   "cell_type": "code",
   "execution_count": 61,
   "id": "9a5691cb-104c-47fc-85b3-eaf4d62d6289",
   "metadata": {},
   "outputs": [
    {
     "data": {
      "text/plain": [
       "card_id\n",
       "0            [57322, 9294, 35208, 154, 35208, 4374, 35208]\n",
       "1               [20234, 51048, 43358, 30881, 24023, 24023]\n",
       "2        [29126, 46092, 34156, 31062, 51246, 51246, 51246]\n",
       "3               [30746, 30746, 53500, 30746, 36943, 30746]\n",
       "4        [33297, 33297, 32478, 17152, 34764, 32478, 324...\n",
       "                               ...                        \n",
       "20695    [7178, 54521, 37522, 55212, 21913, 58328, 2191...\n",
       "20696    [59259, 39268, 20775, 40017, 43739, 59259, 247...\n",
       "20697    [34521, 34521, 34521, 34521, 52839, 49453, 52931]\n",
       "20698          [482, 482, 25322, 482, 52471, 25322, 47358]\n",
       "20699    [52934, 54257, 33668, 33, 33668, 22484, 154, 2...\n",
       "Name: merchant_id, Length: 20700, dtype: object"
      ]
     },
     "execution_count": 61,
     "metadata": {},
     "output_type": "execute_result"
    }
   ],
   "source": [
    "groups # it is in order because we ordered clean by date previously"
   ]
  },
  {
   "cell_type": "code",
   "execution_count": 62,
   "id": "1898e26d-5142-46f3-8165-025994d8857f",
   "metadata": {},
   "outputs": [],
   "source": [
    "file = open('data/card_purchases.txt', 'w')\n",
    "writer = csv.writer(file)\n",
    "max_seq_len = 50\n",
    "for k in range(len(groups)):\n",
    "    d = groups[k][:max_seq_len] # cut the sequence length\n",
    "    d.insert(0, k) # this is not ideal because it's not immutable and it messes with groups\n",
    "    writer.writerow(d)\n",
    "file.close()"
   ]
  },
  {
   "cell_type": "code",
   "execution_count": null,
   "id": "8278fa59-56d9-488d-a25e-519cee88f4a1",
   "metadata": {},
   "outputs": [],
   "source": []
  }
 ],
 "metadata": {
  "kernelspec": {
   "display_name": "Python 3 (ipykernel)",
   "language": "python",
   "name": "python3"
  },
  "language_info": {
   "codemirror_mode": {
    "name": "ipython",
    "version": 3
   },
   "file_extension": ".py",
   "mimetype": "text/x-python",
   "name": "python",
   "nbconvert_exporter": "python",
   "pygments_lexer": "ipython3",
   "version": "3.9.7"
  }
 },
 "nbformat": 4,
 "nbformat_minor": 5
}
